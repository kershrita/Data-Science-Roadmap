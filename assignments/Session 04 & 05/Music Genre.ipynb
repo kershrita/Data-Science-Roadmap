{
 "cells": [
  {
   "cell_type": "markdown",
   "id": "43e6cc27",
   "metadata": {},
   "source": [
    "# Session 04 & 05 - Assignment"
   ]
  },
  {
   "cell_type": "markdown",
   "id": "60b2b6ad",
   "metadata": {},
   "source": [
    "### Dataset Description\n",
    "\n",
    "| Label                    | Description                                                                           |\n",
    "|--------------------------|---------------------------------------------------------------------------------------|\n",
    "| artist                   | Name of the Artist                                                                    |\n",
    "| song                     | Name of the Track.                                                                    |\n",
    "| popularity               | The higher the value the more popular the song is.                                    |\n",
    "| danceability             | Describes how suitable a track is for dancing based on a combination of musical elements including tempo, rhythm.                                                                                  |\n",
    "| energy                   | A measure from 0.0 to 1.0 and represents a perceptual measure of intensity and activity.                                                                                                          |\n",
    "| key                      | The key the track is in. Integers map to pitches using standard Pitch Class notation. |\n",
    "| loudness                 | The overall loudness of a track in decibels (dB). Loudness values are averaged across the entire track and are useful for comparing relative.                                                            |\n",
    "| mode                     | Mode indicates the modality (major or minor) of a track, the type of scale from which its melodic content is derived. Major is represented by 1 and minor is 0.                                          |\n",
    "| speechiness              | Speechiness detects the presence of spoken words in a track. The more exclusively speech-like the recording (e.g. talk show, audio book, poetry), the closer to 1.0 the attribute value.             |\n",
    "| acousticness             | A confidence measure from 0.0 to 1.0 of whether the track is acoustic. 1.0 represents high confidence the track is acoustic.                                                                             |\n",
    "| instrumentalness         | Predicts whether a track contains no vocals. \"Ooh\" and \"aah\" sounds are treated as instrumental in this context. Rap or spoken word tracks are clearly \"vocal\". The closer the instrumentalness value is to 1.0, the greater likelihood the track contains no vocal content. Values above 0.5 are intended to represent instrumental tracks, but confidence is higher as the value approaches 1.0.                                         |\n",
    "| liveness                 | Detects the presence of an audience in the recording. Higher liveness values represent an increased probability that the track was performed live. A value above 0.8 provides strong likelihood that the track is live.                                                                                                     |\n",
    "| valence                  | A measure from 0.0 to 1.0 describing the musical positiveness conveyed by a track. Tracks with high valence sound more positive (e.g. happy, cheerful, euphoric), while tracks with low valence sound more negative (e.g. sad, depressed, angry).                                                                        |\n",
    "| tempo                    | The overall estimated tempo of a track in beats per minute (BPM). In musical terminology, tempo is the speed or pace of a given piece and derives directly from the average beat duration.      |\n",
    "| duration in milliseconds | Time of the song.                                                                     |\n",
    "| time_signature           | a notational convention used in Western musical notation to specify how many beats (pulses) are contained in each measure (bar), and which note value is equivalent to a beat.                        |\n",
    "| Class                    | Genre of the track. such as Rock, Indie, Alt, Pop, Metal, HipHop, Alt_Music, Blues, Acoustic/Folk, Instrumental, Country, Bollywood,                                                                   |\n"
   ]
  },
  {
   "cell_type": "markdown",
   "id": "1c7555ef",
   "metadata": {},
   "source": [
    "### You must do:\n",
    "\n",
    "1. Import data and neccssary libraries.\n",
    "2. discover and explore the data using pandas and matplotlib.\n",
    "3. handle missing values with the best method from your perspective.\n",
    "4. apply columns transformation."
   ]
  },
  {
   "cell_type": "code",
   "execution_count": null,
   "id": "7c099ca0",
   "metadata": {},
   "outputs": [],
   "source": []
  },
  {
   "cell_type": "code",
   "execution_count": null,
   "id": "6fe78dbf",
   "metadata": {},
   "outputs": [],
   "source": []
  },
  {
   "cell_type": "code",
   "execution_count": null,
   "id": "1716a665",
   "metadata": {},
   "outputs": [],
   "source": []
  }
 ],
 "metadata": {
  "kernelspec": {
   "display_name": "Python 3 (ipykernel)",
   "language": "python",
   "name": "python3"
  },
  "language_info": {
   "codemirror_mode": {
    "name": "ipython",
    "version": 3
   },
   "file_extension": ".py",
   "mimetype": "text/x-python",
   "name": "python",
   "nbconvert_exporter": "python",
   "pygments_lexer": "ipython3",
   "version": "3.10.12"
  }
 },
 "nbformat": 4,
 "nbformat_minor": 5
}
